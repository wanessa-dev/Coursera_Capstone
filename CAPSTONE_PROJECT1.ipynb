{
 "cells": [
  {
   "cell_type": "markdown",
   "metadata": {},
   "source": [
    "### Exploring neighborhoods in São Paulo to open a pizza place"
   ]
  },
  {
   "cell_type": "markdown",
   "metadata": {},
   "source": [
    "1. Description of the problem\n",
    "    São Paulo is a city with a high population density and high rates of demand, the largest city in the country with an extensive and varied international cuisine. Pizza from São Paulo is known nationally as one of the best in the country. In addition, of course, to the Italian influence that reverberates throughout São Paulo. Throughout this set of features, opening a pizzeria proves to be a great and profitable business.\n",
    "    In this project, we will focus on gaining insights and studying the neighborhoods of São Paulo to decide where the best region would be to open a pizzeria and consequently produce more profit for the future owner\n",
    "\n",
    "2. Target audience\n",
    "    Entrepreneurs wishing to invest in the pizzeria business in São Paulo Capital"
   ]
  },
  {
   "cell_type": "markdown",
   "metadata": {},
   "source": []
  },
  {
   "cell_type": "code",
   "execution_count": null,
   "metadata": {},
   "outputs": [],
   "source": []
  },
  {
   "cell_type": "code",
   "execution_count": null,
   "metadata": {},
   "outputs": [],
   "source": []
  },
  {
   "cell_type": "code",
   "execution_count": null,
   "metadata": {},
   "outputs": [],
   "source": []
  },
  {
   "cell_type": "code",
   "execution_count": null,
   "metadata": {},
   "outputs": [],
   "source": []
  }
 ],
 "metadata": {
  "kernelspec": {
   "display_name": "Python 3",
   "language": "python",
   "name": "python3"
  },
  "language_info": {
   "codemirror_mode": {
    "name": "ipython",
    "version": 3
   },
   "file_extension": ".py",
   "mimetype": "text/x-python",
   "name": "python",
   "nbconvert_exporter": "python",
   "pygments_lexer": "ipython3",
   "version": "3.8.5"
  }
 },
 "nbformat": 4,
 "nbformat_minor": 4
}
