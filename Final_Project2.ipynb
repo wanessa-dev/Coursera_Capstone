{
 "cells": [
  {
   "cell_type": "markdown",
   "metadata": {},
   "source": [
    "### Exploring neighborhoods in São Paulo to open a pizza place"
   ]
  },
  {
   "cell_type": "markdown",
   "metadata": {},
   "source": [
    "1. Description of the problem\n",
    "    São Paulo is a city with a high population density and high rates of demand, the largest city in the country with an extensive and varied international cuisine. Pizza from São Paulo is known nationally as one of the best in the country. In addition, of course, to the Italian influence that reverberates throughout São Paulo. Throughout this set of features, opening a pizzeria proves to be a great and profitable business.\n",
    "    In this project, we will focus on gaining insights and studying the neighborhoods of São Paulo to decide where the best region would be to open a pizzeria and consequently produce more profit for the future owner\n",
    "\n",
    "2. Target audience\n",
    "    Entrepreneurs wishing to invest in the pizzeria business in São Paulo Capital\n",
    "\n",
    "3. Data Sources\n",
    "\n",
    "a) Estou usando a página da prefeitura da cidade para extrair a lista de bairros e densidade demográfica( 'https://www.prefeitura.sp.gov.br/cidade/secretarias/subprefeituras/subprefeituras/dados_demograficos/index.php?p=12758')\n",
    "\n",
    "\n",
    "b) Estou usando para obter a renda domiciliar por distrito:\n",
    "'deinfoidhudh20002010.xls' extraído de: 'http://dados.prefeitura.sp.gov.br/dataset/7fe5fa32-4845-4f49-ad1b-81df5336d465/resource/1db7305b-e63e-4a02-9407-8ea21cda7fc4/download/deinfoidhudh20002010.xls'\n",
    "\n",
    "c) Para obter a Lista de shopping centers de São Paulo estou usando:\n",
    "'https://pt.wikipedia.org/wiki/Categoria:Shopping_centers_de_S%C3%A3o_Paulo_(cidade)'\n",
    "\n",
    "d) Para obter a localização e outras informações sobre vários locais em São Paulo estou usando a API do Foursquare\n",
    " (https://developer.foursquare.com/docs) obtendo as seguintes informações:\n",
    "Nome: o nome do local.\n",
    "Categoria: o tipo de categoria conforme definido pela API.\n",
    "Latitude: o valor da latitude do local.\n",
    "Longitude: o valor da longitude do local.\n"
   ]
  },
  {
   "cell_type": "markdown",
   "metadata": {},
   "source": []
  },
  {
   "cell_type": "code",
   "execution_count": null,
   "metadata": {},
   "outputs": [],
   "source": []
  },
  {
   "cell_type": "code",
   "execution_count": null,
   "metadata": {},
   "outputs": [],
   "source": []
  },
  {
   "cell_type": "code",
   "execution_count": null,
   "metadata": {},
   "outputs": [],
   "source": []
  },
  {
   "cell_type": "code",
   "execution_count": null,
   "metadata": {},
   "outputs": [],
   "source": []
  }
 ],
 "metadata": {
  "kernelspec": {
   "display_name": "Python 3",
   "language": "python",
   "name": "python3"
  },
  "language_info": {
   "codemirror_mode": {
    "name": "ipython",
    "version": 3
   },
   "file_extension": ".py",
   "mimetype": "text/x-python",
   "name": "python",
   "nbconvert_exporter": "python",
   "pygments_lexer": "ipython3",
   "version": "3.8.5"
  }
 },
 "nbformat": 4,
 "nbformat_minor": 4
}
